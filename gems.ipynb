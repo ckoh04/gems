{
 "cells": [
  {
   "cell_type": "code",
   "execution_count": 2,
   "metadata": {
    "collapsed": true,
    "pycharm": {
     "name": "#%%\n"
    }
   },
   "outputs": [],
   "source": [
    "#packages\n",
    "import pandas as pd\n"
   ]
  },
  {
   "cell_type": "code",
   "execution_count": 4,
   "outputs": [
    {
     "data": {
      "text/plain": "         id                                                url    shape  \\\n0  10086429  https://www.brilliantearth.com//loose-diamonds...    Round   \n1  10016334  https://www.brilliantearth.com//loose-diamonds...  Emerald   \n2   9947216  https://www.brilliantearth.com//loose-diamonds...  Emerald   \n3  10083437  https://www.brilliantearth.com//loose-diamonds...    Round   \n4   9946136  https://www.brilliantearth.com//loose-diamonds...  Emerald   \n\n   price  carat        cut color clarity report     type         date_fetched  \n0    400   0.30  Very Good     J     SI2    GIA  natural  2020-11-29 12-26 PM  \n1    400   0.31      Ideal     I     SI1    GIA  natural  2020-11-29 12-26 PM  \n2    400   0.30      Ideal     I     VS2    GIA  natural  2020-11-29 12-26 PM  \n3    400   0.30      Ideal     I     SI2    GIA  natural  2020-11-29 12-26 PM  \n4    400   0.30      Ideal     I     SI1    GIA  natural  2020-11-29 12-26 PM  ",
      "text/html": "<div>\n<style scoped>\n    .dataframe tbody tr th:only-of-type {\n        vertical-align: middle;\n    }\n\n    .dataframe tbody tr th {\n        vertical-align: top;\n    }\n\n    .dataframe thead th {\n        text-align: right;\n    }\n</style>\n<table border=\"1\" class=\"dataframe\">\n  <thead>\n    <tr style=\"text-align: right;\">\n      <th></th>\n      <th>id</th>\n      <th>url</th>\n      <th>shape</th>\n      <th>price</th>\n      <th>carat</th>\n      <th>cut</th>\n      <th>color</th>\n      <th>clarity</th>\n      <th>report</th>\n      <th>type</th>\n      <th>date_fetched</th>\n    </tr>\n  </thead>\n  <tbody>\n    <tr>\n      <th>0</th>\n      <td>10086429</td>\n      <td>https://www.brilliantearth.com//loose-diamonds...</td>\n      <td>Round</td>\n      <td>400</td>\n      <td>0.30</td>\n      <td>Very Good</td>\n      <td>J</td>\n      <td>SI2</td>\n      <td>GIA</td>\n      <td>natural</td>\n      <td>2020-11-29 12-26 PM</td>\n    </tr>\n    <tr>\n      <th>1</th>\n      <td>10016334</td>\n      <td>https://www.brilliantearth.com//loose-diamonds...</td>\n      <td>Emerald</td>\n      <td>400</td>\n      <td>0.31</td>\n      <td>Ideal</td>\n      <td>I</td>\n      <td>SI1</td>\n      <td>GIA</td>\n      <td>natural</td>\n      <td>2020-11-29 12-26 PM</td>\n    </tr>\n    <tr>\n      <th>2</th>\n      <td>9947216</td>\n      <td>https://www.brilliantearth.com//loose-diamonds...</td>\n      <td>Emerald</td>\n      <td>400</td>\n      <td>0.30</td>\n      <td>Ideal</td>\n      <td>I</td>\n      <td>VS2</td>\n      <td>GIA</td>\n      <td>natural</td>\n      <td>2020-11-29 12-26 PM</td>\n    </tr>\n    <tr>\n      <th>3</th>\n      <td>10083437</td>\n      <td>https://www.brilliantearth.com//loose-diamonds...</td>\n      <td>Round</td>\n      <td>400</td>\n      <td>0.30</td>\n      <td>Ideal</td>\n      <td>I</td>\n      <td>SI2</td>\n      <td>GIA</td>\n      <td>natural</td>\n      <td>2020-11-29 12-26 PM</td>\n    </tr>\n    <tr>\n      <th>4</th>\n      <td>9946136</td>\n      <td>https://www.brilliantearth.com//loose-diamonds...</td>\n      <td>Emerald</td>\n      <td>400</td>\n      <td>0.30</td>\n      <td>Ideal</td>\n      <td>I</td>\n      <td>SI1</td>\n      <td>GIA</td>\n      <td>natural</td>\n      <td>2020-11-29 12-26 PM</td>\n    </tr>\n  </tbody>\n</table>\n</div>"
     },
     "execution_count": 4,
     "metadata": {},
     "output_type": "execute_result"
    }
   ],
   "source": [
    "df = pd.read_csv(\"diamonds_dataset.csv\")\n",
    "df.head()"
   ],
   "metadata": {
    "collapsed": false,
    "pycharm": {
     "name": "#%%\n"
    }
   }
  },
  {
   "cell_type": "code",
   "execution_count": 7,
   "outputs": [
    {
     "name": "stdout",
     "output_type": "stream",
     "text": [
      "<class 'pandas.core.frame.DataFrame'>\n",
      "RangeIndex: 119307 entries, 0 to 119306\n",
      "Data columns (total 11 columns):\n",
      " #   Column        Non-Null Count   Dtype  \n",
      "---  ------        --------------   -----  \n",
      " 0   id            119307 non-null  int64  \n",
      " 1   url           119307 non-null  object \n",
      " 2   shape         119307 non-null  object \n",
      " 3   price         119307 non-null  int64  \n",
      " 4   carat         119307 non-null  float64\n",
      " 5   cut           119307 non-null  object \n",
      " 6   color         119307 non-null  object \n",
      " 7   clarity       119307 non-null  object \n",
      " 8   report        119307 non-null  object \n",
      " 9   type          119307 non-null  object \n",
      " 10  date_fetched  119307 non-null  object \n",
      "dtypes: float64(1), int64(2), object(8)\n",
      "memory usage: 10.0+ MB\n"
     ]
    }
   ],
   "source": [
    "df.info()"
   ],
   "metadata": {
    "collapsed": false,
    "pycharm": {
     "name": "#%%\n"
    }
   }
  },
  {
   "cell_type": "code",
   "execution_count": null,
   "outputs": [],
   "source": [],
   "metadata": {
    "collapsed": false,
    "pycharm": {
     "name": "#%%\n"
    }
   }
  }
 ],
 "metadata": {
  "kernelspec": {
   "display_name": "Python 3",
   "language": "python",
   "name": "python3"
  },
  "language_info": {
   "codemirror_mode": {
    "name": "ipython",
    "version": 2
   },
   "file_extension": ".py",
   "mimetype": "text/x-python",
   "name": "python",
   "nbconvert_exporter": "python",
   "pygments_lexer": "ipython2",
   "version": "2.7.6"
  }
 },
 "nbformat": 4,
 "nbformat_minor": 0
}